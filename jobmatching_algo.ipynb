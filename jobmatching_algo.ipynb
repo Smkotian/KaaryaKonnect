!pip install indic-transliteration firebase-admin

import firebase_admin
from firebase_admin import credentials, db
from indic_transliteration import sanscript
from indic_transliteration.sanscript import transliterate

def transliterate_kannada(text):
    try:
        return transliterate(text, sanscript.KANNADA, sanscript.ITRANS)
    except Exception as e:
        return text  # If error, return original text

# Replace with your uploaded service account filename
service_account_path = 'kaaryakonnect-d0fa8-firebase-adminsdk-fbsvc-80766a7429.json'

if not firebase_admin._apps:
    cred = credentials.Certificate(service_account_path)
    firebase_admin.initialize_app(cred, {
        'databaseURL': 'https://kaaryakonnect-d0fa8-default-rtdb.firebaseio.com/'
    })

def fetch_all(path):
    ref = db.reference(path)
    data = ref.get()
    return data or {}

def job_match_algorithm(workers, jobs, wage_margin=1500):
    matches = []
    for wid, worker in workers.items():
        worker_skills = set()
        for skill in (worker.get('skills') or {}).keys():
            translit_skill = transliterate_kannada(skill).lower()
            worker_skills.add(translit_skill)

        worker_loc = transliterate_kannada(worker.get('location', '')).strip().lower()
        worker_wage = int(worker.get('daily_wage_expectation') or 0)

        for jid, job in jobs.items():
            job_title = (job.get('title') or '').lower()
            job_loc = (job.get('location') or '').strip().lower()
            try:
                job_pay = int(job.get('pay') or 0)
            except:
                job_pay = 0

            skill_match = any(skill in job_title or job_title in skill for skill in worker_skills)
            location_match = (worker_loc in job_loc) or (job_loc in worker_loc)
            wage_match = abs(job_pay - worker_wage) <= wage_margin

            print(f"[DEBUG] Worker: {worker.get('name')} ({worker_loc}), Skills: {worker_skills}")
            print(f"[DEBUG] Job: '{job.get('title')}' ({job_loc}), Pay: {job_pay}")
            print(f"[DEBUG] Matches? Skill:{skill_match}, Location:{location_match}, Wage:{wage_match}")

            if skill_match and location_match and wage_match:
                matches.append({
                    'worker_id': wid,
                    'worker_name': worker.get('name'),
                    'job_id': jid,
                    'job_title': job.get('title'),
                    'location': job_loc,
                    'pay': job_pay
                })
    return matches

def main():
    workers = fetch_all('workers')
    jobs = fetch_all('jobs')

    print(f"Loaded {len(workers)} workers and {len(jobs)} jobs.")

    matches = job_match_algorithm(workers, jobs)

    print(f"Found {len(matches)} matches:")
    for match in matches:
        print(f"{match['worker_name']} matched with job '{match['job_title']}' in {match['location']} paying ₹{match['pay']}")

    db.reference('matches').set(matches)
    print("Matches saved to Firebase under /matches")

if _name_ == '_main_':
    main()